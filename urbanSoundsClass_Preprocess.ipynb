{
 "cells": [
  {
   "cell_type": "code",
   "execution_count": 1,
   "id": "dedc25f3",
   "metadata": {},
   "outputs": [],
   "source": [
    "import numpy as np\n",
    "import matplotlib.pyplot as plt\n",
    "\n",
    "import librosa\n",
    "import librosa.display\n",
    "\n",
    "import os\n",
    "import cv2 as cv\n",
    "\n",
    "import random\n",
    "import pickle"
   ]
  },
  {
   "cell_type": "code",
   "execution_count": 2,
   "id": "d45b83ab",
   "metadata": {},
   "outputs": [],
   "source": [
    "def normalize(x):\n",
    "    x = (x-x.min())/(x.max()-x.min())\n",
    "    return x"
   ]
  },
  {
   "cell_type": "code",
   "execution_count": 3,
   "id": "eb7933f4",
   "metadata": {},
   "outputs": [],
   "source": [
    "def create_spectrogram(y):\n",
    "    spec = librosa.feature.melspectrogram(y=y)\n",
    "    spec_conv = librosa.amplitude_to_db(spec, ref=np.max)\n",
    "    return spec_conv"
   ]
  },
  {
   "cell_type": "code",
   "execution_count": 4,
   "id": "c5a3ff69",
   "metadata": {},
   "outputs": [],
   "source": [
    "path_to_dataset = \"D:/Projects/Global_AI/UrbanSound8K/audio\"\n",
    "path_to_images = \"D:\\Projects\\Global_AI\\images\""
   ]
  },
  {
   "cell_type": "code",
   "execution_count": 5,
   "id": "3aa07c03",
   "metadata": {},
   "outputs": [],
   "source": [
    "folds = [\"fold1\",\"fold2\",\"fold3\",\"fold4\",\"fold5\",\"fold6\",\"fold7\",\"fold8\",\"fold9\",\"fold10\",]"
   ]
  },
  {
   "cell_type": "code",
   "execution_count": 6,
   "id": "b7a374c8",
   "metadata": {},
   "outputs": [
    {
     "name": "stdout",
     "output_type": "stream",
     "text": [
      "Processed 8732 | Errors: 0 image"
     ]
    }
   ],
   "source": [
    "audios = []\n",
    "img_counter = 0\n",
    "errors_file = open(\"errors.txt\", \"a\")\n",
    "number = 0\n",
    "img_number = 0\n",
    "error = 0\n",
    "\n",
    "for fold in folds:\n",
    "    aud_per_category = 0\n",
    "    for audio in os.listdir(f\"{path_to_dataset}/{fold}\"):\n",
    "        aud_per_category += 1\n",
    "        if audio == \".DS_Store\":\n",
    "            continue\n",
    "        path_to_audio = f\"{path_to_dataset}/{fold}/{audio}\"\n",
    "\n",
    "        idx = int(audio.split(\"-\")[1])\n",
    "        try:\n",
    "            y, sr = librosa.load(path_to_audio)# audio file is loaded\n",
    "            \n",
    "            S_db = create_spectrogram(y)\n",
    "            \n",
    "            name = audio[:-4]\n",
    "            spc_name = f\"D:/Projects/Global_AI/images/{name}_{idx}.png\"\n",
    "            \n",
    "            fig = plt.figure()\n",
    "            librosa.display.specshow(S_db, cmap='gray_r', y_axis='log', x_axis='time')\n",
    "            plt.savefig(spc_name)\n",
    "            plt.close()            \n",
    "\n",
    "        except Exception as e:\n",
    "            error += 1\n",
    "            errors_file.write(f\"{error} | {e}\\n\")\n",
    "            \n",
    "        finally:\n",
    "            number += 1\n",
    "        print(f\"\\rProcessed {number} | Errors: {error}\", end=\"\")\n",
    "\n",
    "for image in os.listdir(path_to_images):\n",
    "    if image == \".DS_Store\":\n",
    "        continue\n",
    "    path_to_image = f\"{path_to_images}/{image}\"\n",
    "#        if img_counter == 5:\n",
    "#            break\n",
    "    idx = int(image.split(\"_\")[1][0])\n",
    "    try:\n",
    "\n",
    "        img = cv.imread(path_to_image, cv.IMREAD_COLOR)\n",
    "        img = cv.resize(img, (128,128)) # resize\n",
    "        img = normalize(img) # normalize\n",
    "        audios.append([img, idx])\n",
    "\n",
    "    except Exception as e:\n",
    "        error += 1\n",
    "        errors_file.write(f\"{error} | {e}\\n\")\n",
    "\n",
    "    finally:\n",
    "        img_counter += 1\n",
    "    print(f\"\\rProcessed {img_counter} | Errors: {error}\", end=\" image\")\n",
    "          \n",
    "errors_file.close()"
   ]
  },
  {
   "cell_type": "markdown",
   "id": "2da56916",
   "metadata": {},
   "source": [
    "## Dataset is shuffled to increase randomness"
   ]
  },
  {
   "cell_type": "code",
   "execution_count": 7,
   "id": "3d77af03",
   "metadata": {},
   "outputs": [],
   "source": [
    "for _ in range(10):\n",
    "    random.shuffle(audios)"
   ]
  },
  {
   "cell_type": "code",
   "execution_count": 8,
   "id": "9d8dc718",
   "metadata": {},
   "outputs": [],
   "source": [
    "x = []\n",
    "y = []\n",
    "\n",
    "for audio, idx in audios:\n",
    "    x.append(audio)\n",
    "    y.append(idx)"
   ]
  },
  {
   "cell_type": "markdown",
   "id": "35b344cf",
   "metadata": {},
   "source": [
    "## train, value and test data sets are created"
   ]
  },
  {
   "cell_type": "code",
   "execution_count": 9,
   "id": "6c207a98",
   "metadata": {},
   "outputs": [],
   "source": [
    "X_train = np.array(x[:int(len(x)*0.8)])\n",
    "Y_train = np.array(y[:int(len(y)*0.8)])\n",
    "\n",
    "X_val = np.array(x[int(len(x)*0.8):int(len(x)*0.9)])\n",
    "Y_val = np.array(y[int(len(y)*0.8):int(len(y)*0.9)])\n",
    "\n",
    "X_test = np.array(x[int(len(x)*0.9):])\n",
    "Y_test = np.array(y[int(len(y)*0.9):])"
   ]
  },
  {
   "cell_type": "markdown",
   "id": "cb807202",
   "metadata": {},
   "source": [
    "## .pickle files are created"
   ]
  },
  {
   "cell_type": "code",
   "execution_count": 10,
   "id": "0d014bea",
   "metadata": {},
   "outputs": [],
   "source": [
    "with open(\"X_train.pickle\",\"wb\") as f:\n",
    "    pickle.dump(X_train, f)\n",
    "with open(\"Y_train.pickle\",\"wb\") as f:\n",
    "    pickle.dump(Y_train, f)\n",
    "    \n",
    "with open(\"X_val.pickle\",\"wb\") as f:\n",
    "    pickle.dump(X_val, f)\n",
    "with open(\"Y_val.pickle\",\"wb\") as f:\n",
    "    pickle.dump(Y_val, f)\n",
    "    \n",
    "with open(\"X_test.pickle\",\"wb\") as f:\n",
    "    pickle.dump(X_test, f)\n",
    "with open(\"Y_test.pickle\",\"wb\") as f:\n",
    "    pickle.dump(Y_test, f)"
   ]
  },
  {
   "cell_type": "code",
   "execution_count": null,
   "id": "5041afd3",
   "metadata": {},
   "outputs": [],
   "source": []
  }
 ],
 "metadata": {
  "kernelspec": {
   "display_name": "Python 3",
   "language": "python",
   "name": "python3"
  },
  "language_info": {
   "codemirror_mode": {
    "name": "ipython",
    "version": 3
   },
   "file_extension": ".py",
   "mimetype": "text/x-python",
   "name": "python",
   "nbconvert_exporter": "python",
   "pygments_lexer": "ipython3",
   "version": "3.8.8"
  }
 },
 "nbformat": 4,
 "nbformat_minor": 5
}
