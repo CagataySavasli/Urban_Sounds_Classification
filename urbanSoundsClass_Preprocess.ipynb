{
 "cells": [
  {
   "cell_type": "code",
   "execution_count": 1,
   "id": "dedc25f3",
   "metadata": {},
   "outputs": [],
   "source": [
    "import numpy as np\n",
    "import matplotlib.pyplot as plt\n",
    "\n",
    "import librosa\n",
    "import librosa.display\n",
    "\n",
    "import os\n",
    "import cv2 as cv\n",
    "\n",
    "import random\n",
    "import pickle"
   ]
  },
  {
   "cell_type": "code",
   "execution_count": 2,
   "id": "d45b83ab",
   "metadata": {},
   "outputs": [],
   "source": [
    "def normalize(x):\n",
    "    x = (x-x.min())/(x.max()-x.min())\n",
    "    return x"
   ]
  },
  {
   "cell_type": "code",
   "execution_count": 3,
   "id": "eb7933f4",
   "metadata": {},
   "outputs": [],
   "source": [
    "def create_spectrogram(y):\n",
    "    spec = librosa.feature.melspectrogram(y=y)\n",
    "    spec_conv = librosa.amplitude_to_db(spec, ref=np.max)\n",
    "    return spec_conv"
   ]
  },
  {
   "cell_type": "code",
   "execution_count": 4,
   "id": "c5a3ff69",
   "metadata": {},
   "outputs": [],
   "source": [
    "path_to_dataset = \"D:/Projects/Global_AI/UrbanSound8K/audio\""
   ]
  },
  {
   "cell_type": "code",
   "execution_count": 5,
   "id": "3aa07c03",
   "metadata": {},
   "outputs": [],
   "source": [
    "folds = [\"fold1\",\"fold2\",\"fold3\",\"fold4\",\"fold5\",\"fold6\",\"fold7\",\"fold8\",\"fold9\",\"fold10\",]"
   ]
  },
  {
   "cell_type": "code",
   "execution_count": 6,
   "id": "b7a374c8",
   "metadata": {},
   "outputs": [
    {
     "name": "stdout",
     "output_type": "stream",
     "text": [
      "Processed 30 | Errors: 0"
     ]
    },
    {
     "data": {
      "image/png": "[encoded data removed]",
      "text/plain": [
       "<Figure size 432x288 with 1 Axes>"
      ]
     },
     "metadata": {
      "needs_background": "light"
     },
     "output_type": "display_data"
    }
   ],
   "source": [
    "audios = []\n",
    "errors_file = open(\"errors.txt\", \"a\")\n",
    "number = 0\n",
    "error = 0\n",
    "\n",
    "for fold in folds:\n",
    "    aud_per_category = 0\n",
    "    idx = folds.index(fold)\n",
    "    for audio in os.listdir(f\"{path_to_dataset}/{fold}\"):\n",
    "        aud_per_category += 1\n",
    "        if aud_per_category == 5:\n",
    "            break\n",
    "        if audio == \".DS_Store\":\n",
    "            continue\n",
    "        path_to_image = f\"{path_to_dataset}/{fold}/{audio}\"\n",
    "        idx = int(audio.split(\"-\")[1])\n",
    "        try:\n",
    "            y, sr = librosa.load(path_to_image)# audio file is loaded\n",
    "            \n",
    "            S_db = create_spectrogram(y)\n",
    "            \n",
    "            #img = np.array(librosa.display.specshow(S_db, cmap='gray_r', y_axis='log', x_axis='time'))\n",
    "            \"\"\"img should be ndarray. The output of that row cannot be transformed ndarray. \"\"\"\n",
    "            \n",
    "            \n",
    "            img = cv.resize(S_db, (128,128)) # resize\n",
    "            img = normalize(img) # normalize\n",
    "\n",
    "            \n",
    "\n",
    "            img = librosa.display.specshow(img, cmap='gray_r', y_axis='log', x_axis='time')\n",
    "            \n",
    "            audios.append([img, idx])\n",
    "            \n",
    "            \n",
    "            \n",
    "        except Exception as e:\n",
    "            error += 1\n",
    "            errors_file.write(f\"{error} | {e}\\n\")\n",
    "            \n",
    "        finally:\n",
    "            number += 1\n",
    "        print(f\"\\rProcessed {number} | Errors: {error}\", end=\"\")\n",
    "errors_file.close()"
   ]
  },
  {
   "cell_type": "markdown",
   "id": "6c894937",
   "metadata": {},
   "source": [
    "## Dataset is shuffled to increase randomness"
   ]
  },
  {
   "cell_type": "code",
   "execution_count": 7,
   "id": "3d77af03",
   "metadata": {},
   "outputs": [],
   "source": [
    "for _ in range(10):\n",
    "    random.shuffle(audios)"
   ]
  },
  {
   "cell_type": "code",
   "execution_count": 8,
   "id": "9d8dc718",
   "metadata": {},
   "outputs": [],
   "source": [
    "x = []\n",
    "y = []\n",
    "\n",
    "for audio, idx in audios:\n",
    "    x.append(audio)\n",
    "    y.append(idx)"
   ]
  },
  {
   "cell_type": "markdown",
   "id": "7e641c9c",
   "metadata": {},
   "source": [
    "## train, value and test data sets are created"
   ]
  },
  {
   "cell_type": "code",
   "execution_count": 9,
   "id": "9fb30b4b",
   "metadata": {},
   "outputs": [],
   "source": [
    "X_train = np.array(x[:int(len(x)*0.8)])\n",
    "Y_train = np.array(y[:int(len(y)*0.8)])\n",
    "\n",
    "X_val = np.array(x[:int(len(x)*0.1)])\n",
    "Y_val = np.array(y[:int(len(y)*0.1)])\n",
    "\n",
    "X_test = np.array(x[:int(len(x)*0.1)])\n",
    "Y_test = np.array(y[:int(len(y)*0.1)])"
   ]
  },
  {
   "cell_type": "markdown",
   "id": "9c1d2df8",
   "metadata": {},
   "source": []
  },
  {
   "cell_type": "code",
   "execution_count": 10,
   "id": "13b9c2ea",
   "metadata": {},
   "outputs": [
    {
     "data": {
      "text/plain": [
       "'\\nwith open(\"X_train.pickle\",\"wb\") as f:\\n    pickle.dump(X_train, f)\\nwith open(\"Y_train.pickle\",\"wb\") as f:\\n    pickle.dump(Y_train, f)\\n    \\nwith open(\"X_val.pickle\",\"wb\") as f:\\n    pickle.dump(X_val, f)\\nwith open(\"Y_val.pickle\",\"wb\") as f:\\n    pickle.dump(Y_val, f)\\n    \\nwith open(\"X_test.pickle\",\"wb\") as f:\\n    pickle.dump(X_test, f)\\nwith open(\"Y_test.pickle\",\"wb\") as f:\\n    pickle.dump(Y_test, f)\\n'"
      ]
     },
     "execution_count": 10,
     "metadata": {},
     "output_type": "execute_result"
    }
   ],
   "source": [
    "\"\"\"\n",
    "with open(\"X_train.pickle\",\"wb\") as f:\n",
    "    pickle.dump(X_train, f)\n",
    "with open(\"Y_train.pickle\",\"wb\") as f:\n",
    "    pickle.dump(Y_train, f)\n",
    "    \n",
    "with open(\"X_val.pickle\",\"wb\") as f:\n",
    "    pickle.dump(X_val, f)\n",
    "with open(\"Y_val.pickle\",\"wb\") as f:\n",
    "    pickle.dump(Y_val, f)\n",
    "    \n",
    "with open(\"X_test.pickle\",\"wb\") as f:\n",
    "    pickle.dump(X_test, f)\n",
    "with open(\"Y_test.pickle\",\"wb\") as f:\n",
    "    pickle.dump(Y_test, f)\n",
    "\"\"\""
   ]
  }
 ],
 "metadata": {
  "kernelspec": {
   "display_name": "Python 3",
   "language": "python",
   "name": "python3"
  },
  "language_info": {
   "codemirror_mode": {
    "name": "ipython",
    "version": 3
   },
   "file_extension": ".py",
   "mimetype": "text/x-python",
   "name": "python",
   "nbconvert_exporter": "python",
   "pygments_lexer": "ipython3",
   "version": "3.8.8"
  }
 },
 "nbformat": 4,
 "nbformat_minor": 5
}
