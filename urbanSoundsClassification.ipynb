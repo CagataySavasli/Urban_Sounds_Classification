{
 "cells": [
  {
   "cell_type": "code",
   "execution_count": 1,
   "id": "ed0190fe",
   "metadata": {},
   "outputs": [],
   "source": [
    "import pickle\n",
    "import tensorflow as tf\n",
    "import numpy as np\n",
    "import matplotlib.pyplot as plt"
   ]
  },
  {
   "cell_type": "code",
   "execution_count": 2,
   "id": "918cd544",
   "metadata": {},
   "outputs": [],
   "source": [
    "X_train = pickle.load(open(\"X_train.pickle\", \"rb\"))\n",
    "Y_train = pickle.load(open(\"Y_train.pickle\", \"rb\"))\n",
    "\n",
    "X_val = pickle.load(open(\"X_val.pickle\", \"rb\"))\n",
    "Y_val = pickle.load(open(\"Y_val.pickle\", \"rb\"))\n",
    "\n",
    "X_test = pickle.load(open(\"X_test.pickle\", \"rb\"))\n",
    "Y_test = pickle.load(open(\"Y_test.pickle\", \"rb\"))"
   ]
  },
  {
   "cell_type": "code",
   "execution_count": 5,
   "id": "1a5e7d7a",
   "metadata": {},
   "outputs": [],
   "source": [
    "model = tf.keras.Sequential()"
   ]
  },
  {
   "cell_type": "code",
   "execution_count": 6,
   "id": "6de44549",
   "metadata": {},
   "outputs": [],
   "source": [
    "model.add(tf.keras.layers.Conv2D(32,\n",
    "                         kernel_size = (3,3),\n",
    "                         strides=(1,1),\n",
    "                         padding = \"same\",\n",
    "                         activation = \"relu\",\n",
    "                         input_shape = (128,128,3)))\n",
    "model.add(tf.keras.layers.MaxPooling2D((2,2)))"
   ]
  },
  {
   "cell_type": "code",
   "execution_count": 7,
   "id": "fe511c1d",
   "metadata": {},
   "outputs": [],
   "source": [
    "model.add(tf.keras.layers.Conv2D(64,\n",
    "                         kernel_size = (3,3),\n",
    "                         strides=(1,1),\n",
    "                         padding = \"same\",\n",
    "                         activation = \"relu\"))\n",
    "model.add(tf.keras.layers.MaxPooling2D((2,2)))\n",
    "model.add(tf.keras.layers.Conv2D(64,\n",
    "                         kernel_size = (3,3),\n",
    "                         strides=(1,1),\n",
    "                         padding = \"same\",\n",
    "                         activation = \"relu\"))"
   ]
  },
  {
   "cell_type": "code",
   "execution_count": 8,
   "id": "49d448bb",
   "metadata": {},
   "outputs": [],
   "source": [
    "model.add(tf.keras.layers.Flatten())"
   ]
  },
  {
   "cell_type": "code",
   "execution_count": 9,
   "id": "12a33b37",
   "metadata": {},
   "outputs": [],
   "source": [
    "model.add(tf.keras.layers.Dense(64, activation = \"relu\"))\n",
    "model.add(tf.keras.layers.Dropout(0.5))\n",
    "\n",
    "model.add(tf.keras.layers.Dense(64, activation = \"relu\"))\n",
    "model.add(tf.keras.layers.Dropout(0.5))"
   ]
  },
  {
   "cell_type": "code",
   "execution_count": 10,
   "id": "e78552ec",
   "metadata": {},
   "outputs": [],
   "source": [
    "model.add(tf.keras.layers.Dense(10, activation = \"softmax\"))"
   ]
  },
  {
   "cell_type": "code",
   "execution_count": 11,
   "id": "0196978e",
   "metadata": {},
   "outputs": [],
   "source": [
    "model.compile(optimizer=\"adam\",\n",
    "             loss=\"sparse_categorical_crossentropy\",\n",
    "             metrics=[\"accuracy\"])"
   ]
  },
  {
   "cell_type": "code",
   "execution_count": 12,
   "id": "7788449f",
   "metadata": {},
   "outputs": [
    {
     "name": "stdout",
     "output_type": "stream",
     "text": [
      "Epoch 1/50\n",
      "55/55 [==============================] - 92s 2s/step - loss: 2.3069 - accuracy: 0.1363 - val_loss: 2.1605 - val_accuracy: 0.2635\n",
      "Epoch 2/50\n",
      "55/55 [==============================] - 85s 2s/step - loss: 2.0893 - accuracy: 0.2265 - val_loss: 1.8594 - val_accuracy: 0.4101\n",
      "Epoch 3/50\n",
      "55/55 [==============================] - 85s 2s/step - loss: 1.9014 - accuracy: 0.3025 - val_loss: 1.7169 - val_accuracy: 0.4204\n",
      "Epoch 4/50\n",
      "55/55 [==============================] - 85s 2s/step - loss: 1.7560 - accuracy: 0.3645 - val_loss: 1.4839 - val_accuracy: 0.5189\n",
      "Epoch 5/50\n",
      "55/55 [==============================] - 85s 2s/step - loss: 1.6011 - accuracy: 0.4268 - val_loss: 1.3239 - val_accuracy: 0.6082\n",
      "Epoch 6/50\n",
      "55/55 [==============================] - 85s 2s/step - loss: 1.4886 - accuracy: 0.4659 - val_loss: 1.2146 - val_accuracy: 0.6277\n",
      "Epoch 7/50\n",
      "55/55 [==============================] - 85s 2s/step - loss: 1.4005 - accuracy: 0.5069 - val_loss: 1.1104 - val_accuracy: 0.6483\n",
      "Epoch 8/50\n",
      "55/55 [==============================] - 86s 2s/step - loss: 1.3363 - accuracy: 0.5314 - val_loss: 1.0481 - val_accuracy: 0.6712\n",
      "Epoch 9/50\n",
      "55/55 [==============================] - 85s 2s/step - loss: 1.2607 - accuracy: 0.5556 - val_loss: 0.9853 - val_accuracy: 0.7239\n",
      "Epoch 10/50\n",
      "55/55 [==============================] - 85s 2s/step - loss: 1.1989 - accuracy: 0.5887 - val_loss: 0.9799 - val_accuracy: 0.7342\n",
      "Epoch 11/50\n",
      "55/55 [==============================] - 86s 2s/step - loss: 1.1273 - accuracy: 0.6137 - val_loss: 0.9030 - val_accuracy: 0.7457\n",
      "Epoch 12/50\n",
      "55/55 [==============================] - 85s 2s/step - loss: 1.0968 - accuracy: 0.6266 - val_loss: 0.8787 - val_accuracy: 0.7652\n",
      "Epoch 13/50\n",
      "55/55 [==============================] - 85s 2s/step - loss: 1.0154 - accuracy: 0.6613 - val_loss: 0.8023 - val_accuracy: 0.7789\n",
      "Epoch 14/50\n",
      "55/55 [==============================] - 89s 2s/step - loss: 1.0113 - accuracy: 0.6604 - val_loss: 0.7603 - val_accuracy: 0.7869\n",
      "Epoch 15/50\n",
      "55/55 [==============================] - 86s 2s/step - loss: 0.9590 - accuracy: 0.6727 - val_loss: 0.8152 - val_accuracy: 0.7778\n",
      "Epoch 16/50\n",
      "55/55 [==============================] - 86s 2s/step - loss: 0.9350 - accuracy: 0.6770 - val_loss: 0.7563 - val_accuracy: 0.8064\n",
      "Epoch 17/50\n",
      "55/55 [==============================] - 85s 2s/step - loss: 0.8743 - accuracy: 0.7034 - val_loss: 0.7237 - val_accuracy: 0.8156\n",
      "Epoch 18/50\n",
      "55/55 [==============================] - 86s 2s/step - loss: 0.8168 - accuracy: 0.7151 - val_loss: 0.7003 - val_accuracy: 0.8099\n",
      "Epoch 19/50\n",
      "55/55 [==============================] - 92s 2s/step - loss: 0.8220 - accuracy: 0.7204 - val_loss: 0.6868 - val_accuracy: 0.8053\n",
      "Epoch 20/50\n",
      "55/55 [==============================] - 89s 2s/step - loss: 0.7818 - accuracy: 0.7300 - val_loss: 0.7344 - val_accuracy: 0.7869\n",
      "Epoch 21/50\n",
      "55/55 [==============================] - 86s 2s/step - loss: 0.7608 - accuracy: 0.7333 - val_loss: 0.6780 - val_accuracy: 0.8270\n",
      "Epoch 22/50\n",
      "55/55 [==============================] - 86s 2s/step - loss: 0.7152 - accuracy: 0.7492 - val_loss: 0.6637 - val_accuracy: 0.8225\n",
      "Epoch 23/50\n",
      "55/55 [==============================] - 86s 2s/step - loss: 0.7138 - accuracy: 0.7485 - val_loss: 0.6707 - val_accuracy: 0.8121\n",
      "Epoch 24/50\n",
      "55/55 [==============================] - 85s 2s/step - loss: 0.7180 - accuracy: 0.7509 - val_loss: 0.6657 - val_accuracy: 0.8236\n",
      "Epoch 25/50\n",
      "55/55 [==============================] - 86s 2s/step - loss: 0.6522 - accuracy: 0.7735 - val_loss: 0.6491 - val_accuracy: 0.8316\n",
      "Epoch 26/50\n",
      "55/55 [==============================] - 86s 2s/step - loss: 0.6404 - accuracy: 0.7701 - val_loss: 0.6656 - val_accuracy: 0.8293\n",
      "Epoch 27/50\n",
      "55/55 [==============================] - 86s 2s/step - loss: 0.6013 - accuracy: 0.7877 - val_loss: 0.6652 - val_accuracy: 0.8259\n",
      "Epoch 28/50\n",
      "55/55 [==============================] - 86s 2s/step - loss: 0.6053 - accuracy: 0.7904 - val_loss: 0.6785 - val_accuracy: 0.8305\n",
      "Epoch 29/50\n",
      "55/55 [==============================] - 86s 2s/step - loss: 0.6118 - accuracy: 0.7800 - val_loss: 0.7313 - val_accuracy: 0.8282\n",
      "Epoch 30/50\n",
      "55/55 [==============================] - 86s 2s/step - loss: 0.6107 - accuracy: 0.7888 - val_loss: 0.6875 - val_accuracy: 0.8247\n",
      "Epoch 31/50\n",
      "55/55 [==============================] - 86s 2s/step - loss: 0.5599 - accuracy: 0.8000 - val_loss: 0.7325 - val_accuracy: 0.8328\n",
      "Epoch 32/50\n",
      "55/55 [==============================] - 86s 2s/step - loss: 0.5635 - accuracy: 0.8030 - val_loss: 0.7066 - val_accuracy: 0.8167\n",
      "Epoch 33/50\n",
      "55/55 [==============================] - 86s 2s/step - loss: 0.5438 - accuracy: 0.8096 - val_loss: 0.6414 - val_accuracy: 0.8293\n",
      "Epoch 34/50\n",
      "55/55 [==============================] - 86s 2s/step - loss: 0.5185 - accuracy: 0.8196 - val_loss: 0.6778 - val_accuracy: 0.8408\n",
      "Epoch 35/50\n",
      "55/55 [==============================] - 86s 2s/step - loss: 0.5173 - accuracy: 0.8226 - val_loss: 0.6685 - val_accuracy: 0.8351\n",
      "Epoch 36/50\n",
      "55/55 [==============================] - 86s 2s/step - loss: 0.5004 - accuracy: 0.8263 - val_loss: 0.6912 - val_accuracy: 0.8282\n",
      "Epoch 37/50\n",
      "55/55 [==============================] - 86s 2s/step - loss: 0.4997 - accuracy: 0.8232 - val_loss: 0.7091 - val_accuracy: 0.8282\n",
      "Epoch 38/50\n",
      "55/55 [==============================] - 85s 2s/step - loss: 0.4697 - accuracy: 0.8304 - val_loss: 0.6854 - val_accuracy: 0.8305\n",
      "Epoch 39/50\n",
      "55/55 [==============================] - 86s 2s/step - loss: 0.4780 - accuracy: 0.8338 - val_loss: 0.7911 - val_accuracy: 0.8259\n",
      "Epoch 40/50\n",
      "55/55 [==============================] - 85s 2s/step - loss: 0.4773 - accuracy: 0.8321 - val_loss: 0.7207 - val_accuracy: 0.8282\n",
      "Epoch 41/50\n",
      "55/55 [==============================] - 85s 2s/step - loss: 0.4607 - accuracy: 0.8348 - val_loss: 0.7834 - val_accuracy: 0.8339\n",
      "Epoch 42/50\n",
      "55/55 [==============================] - 86s 2s/step - loss: 0.4704 - accuracy: 0.8338 - val_loss: 0.7207 - val_accuracy: 0.8305\n",
      "Epoch 43/50\n",
      "55/55 [==============================] - 86s 2s/step - loss: 0.4465 - accuracy: 0.8431 - val_loss: 0.6995 - val_accuracy: 0.8408\n",
      "Epoch 44/50\n",
      "55/55 [==============================] - 85s 2s/step - loss: 0.4437 - accuracy: 0.8454 - val_loss: 0.7969 - val_accuracy: 0.8202\n",
      "Epoch 45/50\n",
      "55/55 [==============================] - 86s 2s/step - loss: 0.4398 - accuracy: 0.8450 - val_loss: 0.8088 - val_accuracy: 0.8396\n",
      "Epoch 46/50\n",
      "55/55 [==============================] - 86s 2s/step - loss: 0.4111 - accuracy: 0.8557 - val_loss: 0.7908 - val_accuracy: 0.8373\n",
      "Epoch 47/50\n",
      "55/55 [==============================] - 86s 2s/step - loss: 0.4150 - accuracy: 0.8523 - val_loss: 0.8183 - val_accuracy: 0.8385\n",
      "Epoch 48/50\n",
      "55/55 [==============================] - 86s 2s/step - loss: 0.4423 - accuracy: 0.8441 - val_loss: 0.7547 - val_accuracy: 0.8213\n",
      "Epoch 49/50\n",
      "55/55 [==============================] - 86s 2s/step - loss: 0.4423 - accuracy: 0.8429 - val_loss: 0.7522 - val_accuracy: 0.8179\n",
      "Epoch 50/50\n",
      "55/55 [==============================] - 86s 2s/step - loss: 0.4162 - accuracy: 0.8528 - val_loss: 0.7809 - val_accuracy: 0.8339\n"
     ]
    }
   ],
   "source": [
    "results = model.fit(X_train, Y_train,\n",
    "                   batch_size=128,\n",
    "                   epochs=50,\n",
    "                   validation_data=(X_val,Y_val))"
   ]
  },
  {
   "cell_type": "code",
   "execution_count": 13,
   "id": "a67b118b",
   "metadata": {},
   "outputs": [
    {
     "data": {
      "image/png": "[encoded data removed]",
      "text/plain": [
       "<Figure size 432x288 with 1 Axes>"
      ]
     },
     "metadata": {
      "needs_background": "light"
     },
     "output_type": "display_data"
    }
   ],
   "source": [
    "plt.plot(results.history[\"loss\"],label=\"loss\")\n",
    "plt.plot(results.history[\"val_loss\"],label=\"val_loss\")\n",
    "\n",
    "plt.xlabel(\"Epoch\")\n",
    "plt.ylabel(\"Loss\")\n",
    "\n",
    "plt.legend()\n",
    "\n",
    "plt.show()"
   ]
  },
  {
   "cell_type": "code",
   "execution_count": 14,
   "id": "7df3f99d",
   "metadata": {},
   "outputs": [
    {
     "data": {
      "image/png": "[encoded data removed]",
      "text/plain": [
       "<Figure size 432x288 with 1 Axes>"
      ]
     },
     "metadata": {
      "needs_background": "light"
     },
     "output_type": "display_data"
    }
   ],
   "source": [
    "plt.plot(results.history[\"accuracy\"],label=\"accuracy\")\n",
    "plt.plot(results.history[\"val_accuracy\"],label=\"val_accuracy\")\n",
    "\n",
    "plt.xlabel(\"Epoch\")\n",
    "plt.ylabel(\"Accuracy\")\n",
    "\n",
    "plt.legend()\n",
    "\n",
    "plt.show()"
   ]
  },
  {
   "cell_type": "code",
   "execution_count": 15,
   "id": "ebfa37e2",
   "metadata": {},
   "outputs": [
    {
     "name": "stdout",
     "output_type": "stream",
     "text": [
      "28/28 [==============================] - 3s 90ms/step - loss: 0.8235 - accuracy: 0.8261\n"
     ]
    },
    {
     "data": {
      "text/plain": [
       "[0.8234714269638062, 0.8260869383811951]"
      ]
     },
     "execution_count": 15,
     "metadata": {},
     "output_type": "execute_result"
    }
   ],
   "source": [
    "model.evaluate(X_test, Y_test)"
   ]
  }
 ],
 "metadata": {
  "kernelspec": {
   "display_name": "Python 3",
   "language": "python",
   "name": "python3"
  },
  "language_info": {
   "codemirror_mode": {
    "name": "ipython",
    "version": 3
   },
   "file_extension": ".py",
   "mimetype": "text/x-python",
   "name": "python",
   "nbconvert_exporter": "python",
   "pygments_lexer": "ipython3",
   "version": "3.8.8"
  }
 },
 "nbformat": 4,
 "nbformat_minor": 5
}
