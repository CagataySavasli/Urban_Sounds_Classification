{
 "cells": [
  {
   "cell_type": "code",
   "execution_count": 1,
   "id": "ed0190fe",
   "metadata": {},
   "outputs": [],
   "source": [
    "import pickle"
   ]
  },
  {
   "cell_type": "code",
   "execution_count": 2,
   "id": "918cd544",
   "metadata": {},
   "outputs": [],
   "source": [
    "X_train = pickle.load(open(\"X_train.pickle\", \"rb\"))\n",
    "Y_train = pickle.load(open(\"Y_train.pickle\", \"rb\"))\n",
    "\n",
    "X_val = pickle.load(open(\"X_val.pickle\", \"rb\"))\n",
    "Y_val = pickle.load(open(\"Y_val.pickle\", \"rb\"))\n",
    "\n",
    "X_test = pickle.load(open(\"X_test.pickle\", \"rb\"))\n",
    "Y_test = pickle.load(open(\"Y_test.pickle\", \"rb\"))"
   ]
  },
  {
   "cell_type": "code",
   "execution_count": null,
   "id": "93d46863",
   "metadata": {},
   "outputs": [],
   "source": []
  }
 ],
 "metadata": {
  "kernelspec": {
   "display_name": "Python 3",
   "language": "python",
   "name": "python3"
  },
  "language_info": {
   "codemirror_mode": {
    "name": "ipython",
    "version": 3
   },
   "file_extension": ".py",
   "mimetype": "text/x-python",
   "name": "python",
   "nbconvert_exporter": "python",
   "pygments_lexer": "ipython3",
   "version": "3.8.8"
  }
 },
 "nbformat": 4,
 "nbformat_minor": 5
}
