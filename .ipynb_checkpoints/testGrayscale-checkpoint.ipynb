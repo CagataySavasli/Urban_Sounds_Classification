{
 "cells": [
  {
   "cell_type": "code",
   "execution_count": 1,
   "id": "dedc25f3",
   "metadata": {},
   "outputs": [],
   "source": [
    "import numpy as np\n",
    "import matplotlib.pyplot as plt\n",
    "\n",
    "import librosa\n",
    "import librosa.display\n",
    "\n",
    "import os\n",
    "import wave\n",
    "import glob\n",
    "import cv2 as cv\n",
    "import tensorflow"
   ]
  },
  {
   "cell_type": "code",
   "execution_count": 2,
   "id": "d45b83ab",
   "metadata": {},
   "outputs": [],
   "source": [
    "def normalize(x):\n",
    "    x = (x-x.min())/(x.max()-x.min())\n",
    "    return x"
   ]
  },
  {
   "cell_type": "code",
   "execution_count": 3,
   "id": "eb7933f4",
   "metadata": {},
   "outputs": [],
   "source": [
    "def create_spectrogram(y):\n",
    "    spec = librosa.feature.melspectrogram(y=y)\n",
    "    spec_conv = librosa.amplitude_to_db(spec, ref=np.max)\n",
    "    return spec_conv"
   ]
  },
  {
   "cell_type": "code",
   "execution_count": 4,
   "id": "c5a3ff69",
   "metadata": {},
   "outputs": [
    {
     "ename": "SyntaxError",
     "evalue": "(unicode error) 'unicodeescape' codec can't decode bytes in position 21-22: truncated \\UXXXXXXXX escape (<ipython-input-4-7c9c16ed7bdf>, line 1)",
     "output_type": "error",
     "traceback": [
      "\u001b[1;36m  File \u001b[1;32m\"<ipython-input-4-7c9c16ed7bdf>\"\u001b[1;36m, line \u001b[1;32m1\u001b[0m\n\u001b[1;33m    path_to_dataset = \"D:\\Projects\\Global AI\\UrbanSound8K\\audio\"\u001b[0m\n\u001b[1;37m                      ^\u001b[0m\n\u001b[1;31mSyntaxError\u001b[0m\u001b[1;31m:\u001b[0m (unicode error) 'unicodeescape' codec can't decode bytes in position 21-22: truncated \\UXXXXXXXX escape\n"
     ]
    }
   ],
   "source": [
    "path_to_dataset = \"D:\\Projects/Global AI/UrbanSound8K/audio\""
   ]
  },
  {
   "cell_type": "code",
   "execution_count": null,
   "id": "3aa07c03",
   "metadata": {},
   "outputs": [],
   "source": [
    "folds = [\"fold1\",\"fold2\",\"fold3\",\"fold4\",\"fold5\",\"fold6\",\"fold7\",\"fold8\",\"fold9\",\"fold10\",]"
   ]
  },
  {
   "cell_type": "code",
   "execution_count": null,
   "id": "b7a374c8",
   "metadata": {},
   "outputs": [],
   "source": [
    "audios = []\n",
    "errors_file = open(\"errors.txt\", \"a\")\n",
    "number = 0\n",
    "error = 0\n",
    "\n",
    "for fold in folds:\n",
    "    aud_per_category = 0\n",
    "    idx = folds.index(fold)\n",
    "    for audio in os.listdir(f\"{path_to_dataset}/{fold}\"):\n",
    "        aud_per_category += 1\n",
    "        if aud_per_category == 5:\n",
    "            break\n",
    "        if audio == \".DS_Store\":\n",
    "            continue\n",
    "        path_to_image = f\"{path_to_dataset}/{fold}/{audio}\"\n",
    "        idx = int(audio.split(\"-\")[1])\n",
    "        try:\n",
    "            y, sr = librosa.load(path_to_image)# audio file is loaded\n",
    "            \n",
    "            S_db = create_spectrogram(y)\n",
    "            \n",
    "            #img = np.array(librosa.display.specshow(S_db, cmap='gray_r', y_axis='log', x_axis='time'))\n",
    "            print(\" 1:\", type(S_db), end = \" \")\n",
    "            img = cv.resize(S_db, (128,128)) # resize\n",
    "            print(\" 2:\", type(img), end = \" \")\n",
    "            img = normalize(img) # normalize\n",
    "            print(\" 3:\", type(img),end= \" \")\n",
    "\n",
    "            \n",
    "\n",
    "            img = librosa.display.specshow(img, cmap='gray_r', y_axis='log', x_axis='time')\n",
    "            print(\" 4:\", type(img))\n",
    "            \n",
    "            audios.append([img, idx])\n",
    "            \n",
    "            \n",
    "            \n",
    "        except Exception as e:\n",
    "            error += 1\n",
    "            errors_file.write(f\"{error} | {e}\\n\")\n",
    "            \n",
    "        finally:\n",
    "            number += 1\n",
    "        print(f\"\\rProcessed {number} | Errors: {error}\", end=\"\")\n",
    "errors_file.close()"
   ]
  },
  {
   "cell_type": "code",
   "execution_count": null,
   "id": "3d77af03",
   "metadata": {},
   "outputs": [],
   "source": [
    "a = np.ndarray(audios[23][0])"
   ]
  },
  {
   "cell_type": "code",
   "execution_count": null,
   "id": "9dac4606",
   "metadata": {},
   "outputs": [],
   "source": [
    "a"
   ]
  },
  {
   "cell_type": "code",
   "execution_count": null,
   "id": "51e32319",
   "metadata": {},
   "outputs": [],
   "source": []
  },
  {
   "cell_type": "code",
   "execution_count": null,
   "id": "173a568c",
   "metadata": {},
   "outputs": [],
   "source": [
    "plt.figure()\n",
    "librosa.display.specshow(audios[0])\n",
    "plt.colorbar()"
   ]
  },
  {
   "cell_type": "code",
   "execution_count": null,
   "id": "2cc05f84",
   "metadata": {},
   "outputs": [],
   "source": [
    "lib = [\"a\",\"b\",\"c\"]\n"
   ]
  },
  {
   "cell_type": "code",
   "execution_count": null,
   "id": "8461721f",
   "metadata": {},
   "outputs": [],
   "source": [
    "lib.index(\"b\")"
   ]
  },
  {
   "cell_type": "code",
   "execution_count": null,
   "id": "f8d1409c",
   "metadata": {},
   "outputs": [],
   "source": []
  }
 ],
 "metadata": {
  "kernelspec": {
   "display_name": "Python 3",
   "language": "python",
   "name": "python3"
  },
  "language_info": {
   "codemirror_mode": {
    "name": "ipython",
    "version": 3
   },
   "file_extension": ".py",
   "mimetype": "text/x-python",
   "name": "python",
   "nbconvert_exporter": "python",
   "pygments_lexer": "ipython3",
   "version": "3.8.8"
  }
 },
 "nbformat": 4,
 "nbformat_minor": 5
}
